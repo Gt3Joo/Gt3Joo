{
  "nbformat": 4,
  "nbformat_minor": 0,
  "metadata": {
    "colab": {
      "provenance": [],
      "authorship_tag": "ABX9TyNPucmsK69OCfSliZkgsfkZ",
      "include_colab_link": true
    },
    "kernelspec": {
      "name": "python3",
      "display_name": "Python 3"
    },
    "language_info": {
      "name": "python"
    }
  },
  "cells": [
    {
      "cell_type": "markdown",
      "metadata": {
        "id": "view-in-github",
        "colab_type": "text"
      },
      "source": [
        "<a href=\"https://colab.research.google.com/github/Gt3Joo/Gt3Joo/blob/main/Untitled0.ipynb\" target=\"_parent\"><img src=\"https://colab.research.google.com/assets/colab-badge.svg\" alt=\"Open In Colab\"/></a>"
      ]
    },
    {
      "cell_type": "code",
      "execution_count": null,
      "metadata": {
        "colab": {
          "base_uri": "https://localhost:8080/"
        },
        "id": "_aMTPIiWQU3b",
        "outputId": "9ae44254-2f70-4f1a-852c-33c25851bfa6"
      },
      "outputs": [
        {
          "output_type": "stream",
          "name": "stderr",
          "text": [
            "<ipython-input-2-78ca620eec29>:8: DtypeWarning: Columns (10) have mixed types. Specify dtype option on import or set low_memory=False.\n",
            "  movie = pd.read_csv('movies_metadata.csv')\n"
          ]
        }
      ],
      "source": [
        "import pandas as pd\n",
        "import numpy as np\n",
        "\n",
        "from sklearn.feature_extraction.text import TfidfVectorizer\n",
        "from sklearn.metrics.pairwise import cosine_similarity\n",
        "\n",
        "# Exemplo de DataFrame com informações dos filmes (movie)\n",
        "movie = pd.read_csv('movies_metadata.csv')\n",
        "\n",
        "# Vetorização do gênero dos filmes\n",
        "tfidf = TfidfVectorizer(stop_words='english')\n",
        "movie['genres'] = movie['genres'].fillna('')  # Preencha valores NaN para evitar erros\n",
        "tfidf_matrix = tfidf.fit_transform(movie['genres'])\n",
        "\n",
        "# Cálculo da similaridade de cosseno entre os filmes\n",
        "cosine_sim = cosine_similarity(tfidf_matrix, tfidf_matrix)\n",
        "\n",
        "\n"
      ]
    },
    {
      "cell_type": "code",
      "source": [
        "def recommend_movies_by_content_based(movie_title, cosine_sim=cosine_sim, top_n=5):\n",
        "    movie_index = movie[movie['title'] == movie_title].index[0]\n",
        "    sim_scores = list(enumerate(cosine_sim[movie_index]))\n",
        "    sim_scores = sorted(sim_scores, key=lambda x: x[1], reverse=True)\n",
        "    sim_scores = sim_scores[1:top_n+1]  # Exclui o próprio filme da recomendação\n",
        "    movie_indices = [i[0] for i in sim_scores]\n",
        "    return movie.iloc[movie_indices]\n"
      ],
      "metadata": {
        "id": "3AEFUeUBSJqe"
      },
      "execution_count": null,
      "outputs": []
    },
    {
      "cell_type": "code",
      "source": [
        "# Exemplo de recomendação para o filme 'Avatar'\n",
        "recommended_movies = recommend_movies_by_content_based('Avatar')\n",
        "print(recommended_movies[['title']])"
      ],
      "metadata": {
        "colab": {
          "base_uri": "https://localhost:8080/",
          "height": 210
        },
        "id": "O5nhJUb4Rm4o",
        "outputId": "0f61c14e-3b69-44f8-96ba-5452423a8a44"
      },
      "execution_count": 1,
      "outputs": [
        {
          "output_type": "error",
          "ename": "NameError",
          "evalue": "ignored",
          "traceback": [
            "\u001b[0;31m---------------------------------------------------------------------------\u001b[0m",
            "\u001b[0;31mNameError\u001b[0m                                 Traceback (most recent call last)",
            "\u001b[0;32m<ipython-input-1-3efeebe20823>\u001b[0m in \u001b[0;36m<cell line: 2>\u001b[0;34m()\u001b[0m\n\u001b[1;32m      1\u001b[0m \u001b[0;31m# Exemplo de recomendação para o filme 'Avatar'\u001b[0m\u001b[0;34m\u001b[0m\u001b[0;34m\u001b[0m\u001b[0m\n\u001b[0;32m----> 2\u001b[0;31m \u001b[0mrecommended_movies\u001b[0m \u001b[0;34m=\u001b[0m \u001b[0mrecommend_movies_by_content_based\u001b[0m\u001b[0;34m(\u001b[0m\u001b[0;34m'Avatar'\u001b[0m\u001b[0;34m)\u001b[0m\u001b[0;34m\u001b[0m\u001b[0;34m\u001b[0m\u001b[0m\n\u001b[0m\u001b[1;32m      3\u001b[0m \u001b[0mprint\u001b[0m\u001b[0;34m(\u001b[0m\u001b[0mrecommended_movies\u001b[0m\u001b[0;34m[\u001b[0m\u001b[0;34m[\u001b[0m\u001b[0;34m'title'\u001b[0m\u001b[0;34m]\u001b[0m\u001b[0;34m]\u001b[0m\u001b[0;34m)\u001b[0m\u001b[0;34m\u001b[0m\u001b[0;34m\u001b[0m\u001b[0m\n",
            "\u001b[0;31mNameError\u001b[0m: name 'recommend_movies_by_content_based' is not defined"
          ]
        }
      ]
    }
  ]
}